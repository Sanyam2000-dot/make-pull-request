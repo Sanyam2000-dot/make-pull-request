{
 "cells": [
  {
   "cell_type": "code",
   "execution_count": 2,
   "metadata": {},
   "outputs": [
    {
     "name": "stdout",
     "output_type": "stream",
     "text": [
      "5\n"
     ]
    }
   ],
   "source": [
    "# Python3 program to find maximum adjacent  \n",
    "# difference between two adjacent after sorting.  \n",
    "  \n",
    "def mSAD(arr, n):  \n",
    "  \n",
    "    # Find maximum and minimum in arr[]  \n",
    "    maxVal, minVal = arr[0], arr[0]  \n",
    "    for i in range(1, n):  \n",
    "        maxVal = max(maxVal, arr[i])  \n",
    "        minVal = min(minVal, arr[i])  \n",
    "  \n",
    "    # Arrays to store maximum and minimum  \n",
    "    # values in n-1 buckets of differences.  \n",
    "    maxBucket = [INT_MIN] * (n - 1)  \n",
    "    minBucket = [INT_MAX] * (n - 1)  \n",
    "      \n",
    "    # Expected gap for every bucket.  \n",
    "    delta = (maxVal - minVal) // (n - 1)  \n",
    "  \n",
    "    # Traversing through array elements and  \n",
    "    # filling in appropriate bucket if bucket  \n",
    "    # is empty. Else updating bucket values.  \n",
    "    for i in range(0, n): \n",
    "        if arr[i] == maxVal or arr[i] == minVal:  \n",
    "            continue\n",
    "  \n",
    "        # Finding index of bucket.  \n",
    "        index = (arr[i] - minVal) // delta  \n",
    "  \n",
    "        # Filling/Updating maximum value \n",
    "        # of bucket  \n",
    "        if maxBucket[index] == INT_MIN:  \n",
    "            maxBucket[index] = arr[i]  \n",
    "        else: \n",
    "            maxBucket[index] = max(maxBucket[index], \n",
    "                                             arr[i])  \n",
    "  \n",
    "        # Filling/Updating minimum value of bucket  \n",
    "        if minBucket[index] == INT_MAX:  \n",
    "            minBucket[index] = arr[i]  \n",
    "        else: \n",
    "            minBucket[index] = min(minBucket[index], \n",
    "                                             arr[i])  \n",
    "      \n",
    "    # Finding maximum difference between   \n",
    "    # maximum value of previous bucket  \n",
    "    # minus minimum of current bucket.  \n",
    "    prev_val, max_gap = minVal, 0\n",
    "      \n",
    "    for i in range(0, n - 1):  \n",
    "        if minBucket[i] == INT_MAX:  \n",
    "            continue\n",
    "              \n",
    "        max_gap = max(max_gap,  \n",
    "                      minBucket[i] - prev_val)  \n",
    "        prev_val = maxBucket[i]  \n",
    "      \n",
    "    max_gap = max(max_gap, maxVal - prev_val)  \n",
    "  \n",
    "    return max_gap  \n",
    "  \n",
    "# Driver Code  \n",
    "if __name__ == \"__main__\": \n",
    "  \n",
    "    arr = [1, 10, 5]  \n",
    "    n = len(arr) \n",
    "    INT_MIN, INT_MAX = float('-inf'), float('inf') \n",
    "      \n",
    "    print(mSAD(arr, n))"
   ]
  },
  {
   "cell_type": "code",
   "execution_count": null,
   "metadata": {},
   "outputs": [],
   "source": []
  }
 ],
 "metadata": {
  "kernelspec": {
   "display_name": "Python 3",
   "language": "python",
   "name": "python3"
  },
  "language_info": {
   "codemirror_mode": {
    "name": "ipython",
    "version": 3
   },
   "file_extension": ".py",
   "mimetype": "text/x-python",
   "name": "python",
   "nbconvert_exporter": "python",
   "pygments_lexer": "ipython3",
   "version": "3.8.3"
  }
 },
 "nbformat": 4,
 "nbformat_minor": 4
}
